{
 "cells": [
  {
   "cell_type": "code",
   "execution_count": 88,
   "metadata": {},
   "outputs": [],
   "source": [
    "adj_list_1 = {\n",
    "    0:  [1, 2, 3, 7, 10],\n",
    "    1:  [0, 2, 3, 7, 8],\n",
    "    2:  [0, 1, 4, 6, 7, 8, 9, 10, 11],\n",
    "    3:  [0, 1, 8],\n",
    "    4:  [2, 5, 8, 11],\n",
    "    5:  [4, 8],\n",
    "    6:  [2, 9, 11],\n",
    "    7:  [0, 1, 2],\n",
    "    8:  [1, 2, 3, 4, 5],\n",
    "    9:  [2, 6],\n",
    "    10: [0, 2],\n",
    "    11: [2, 4, 6],\n",
    "}"
   ]
  },
  {
   "cell_type": "code",
   "execution_count": 89,
   "metadata": {},
   "outputs": [],
   "source": [
    "adj_list_2 = {\n",
    "    'A': ['B', 'C'],\n",
    "    'B': ['D', 'E'],\n",
    "    'C': ['B', 'F'],\n",
    "    'D': [],\n",
    "    'E': ['F'],\n",
    "    'F': []\n",
    "}"
   ]
  },
  {
   "cell_type": "code",
   "execution_count": 116,
   "metadata": {},
   "outputs": [],
   "source": [
    "# dfs \n",
    "def dfs_util(u):\n",
    "    global time\n",
    "    \n",
    "    visited[u] = 1\n",
    "    travel_time[u][0] = time\n",
    "    dfs_output.append(u)\n",
    "    time += 1\n",
    "    \n",
    "    for v in adj_list[u]:\n",
    "        if visited[v] == 0:\n",
    "            parent[v] = u\n",
    "            dfs_util(v)\n",
    "    \n",
    "    visited[u] = 2\n",
    "    travel_time[u][1] = time\n",
    "    time += 1\n",
    "    \n",
    "    return"
   ]
  },
  {
   "cell_type": "code",
   "execution_count": 128,
   "metadata": {},
   "outputs": [],
   "source": [
    "adj_list = adj_list_2\n",
    "\n",
    "time = 0\n",
    "# 0 - not visited, 1 - visited, 2 - node fully explored\n",
    "visited     = {} \n",
    "parent      = {}\n",
    "travel_time = {}\n",
    "dfs_output  = []\n",
    "\n",
    "# __init__\n",
    "for node, to_list in adj_list.items():\n",
    "    visited[node]     = 0\n",
    "    parent[node]      = None\n",
    "    travel_time[node] = [-1, -1]"
   ]
  },
  {
   "cell_type": "code",
   "execution_count": 129,
   "metadata": {},
   "outputs": [],
   "source": [
    "dfs_util('C')"
   ]
  },
  {
   "cell_type": "code",
   "execution_count": 131,
   "metadata": {},
   "outputs": [
    {
     "name": "stdout",
     "output_type": "stream",
     "text": [
      "{'A': 0, 'B': 2, 'C': 2, 'D': 2, 'E': 2, 'F': 2}\n",
      "['C', 'B', 'D', 'E', 'F']\n",
      "{'A': None, 'B': 'C', 'C': None, 'D': 'B', 'E': 'B', 'F': 'E'}\n",
      "{'A': [-1, -1], 'B': [1, 8], 'C': [0, 9], 'D': [2, 3], 'E': [4, 7], 'F': [5, 6]}\n"
     ]
    }
   ],
   "source": [
    "print(visited)\n",
    "print(dfs_output)\n",
    "print(parent)\n",
    "print(travel_time)"
   ]
  },
  {
   "cell_type": "code",
   "execution_count": null,
   "metadata": {},
   "outputs": [],
   "source": []
  },
  {
   "cell_type": "code",
   "execution_count": 132,
   "metadata": {},
   "outputs": [],
   "source": [
    "# parent é o node \"from\" dentro da estrutura de DFS inicializada\n",
    "# foi de C até F sem gerar o shortest path\n"
   ]
  }
 ],
 "metadata": {
  "kernelspec": {
   "display_name": "Python 3",
   "language": "python",
   "name": "python3"
  },
  "language_info": {
   "codemirror_mode": {
    "name": "ipython",
    "version": 3
   },
   "file_extension": ".py",
   "mimetype": "text/x-python",
   "name": "python",
   "nbconvert_exporter": "python",
   "pygments_lexer": "ipython3",
   "version": "3.8.3"
  }
 },
 "nbformat": 4,
 "nbformat_minor": 4
}
