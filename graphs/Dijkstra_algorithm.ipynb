{
 "cells": [
  {
   "cell_type": "code",
   "execution_count": 45,
   "metadata": {},
   "outputs": [],
   "source": [
    "# ~ BFS ordered\n",
    "# https://www.youtube.com/watch?v=IG1QioWSXRI&t=380s"
   ]
  },
  {
   "cell_type": "code",
   "execution_count": 3,
   "metadata": {},
   "outputs": [],
   "source": [
    "adj_list_1 = {\n",
    "    'A': {'B': 10, 'C': 3},\n",
    "    'B': {'C': 1,  'D': 2},\n",
    "    'C': {'B': 4,  'D': 8, 'E': 2},\n",
    "    'D': {'E': 7},\n",
    "    'E': {'D': 9},\n",
    "}"
   ]
  },
  {
   "cell_type": "code",
   "execution_count": 4,
   "metadata": {},
   "outputs": [],
   "source": [
    "adj_list = adj_list_1"
   ]
  },
  {
   "cell_type": "code",
   "execution_count": 16,
   "metadata": {},
   "outputs": [],
   "source": [
    "def dijkstra(adj_list, start_node, end_node):\n",
    "    \n",
    "    inf = 10e2\n",
    "    shortest_dist = {}\n",
    "    parents       = {}\n",
    "    visited       = adj_list\n",
    "    path          = []\n",
    "    \n",
    "dijkstra(adj_list, 'A', 'D')"
   ]
  },
  {
   "cell_type": "code",
   "execution_count": 27,
   "metadata": {},
   "outputs": [],
   "source": [
    "start_node, end_node = 'A', 'D'"
   ]
  },
  {
   "cell_type": "code",
   "execution_count": 41,
   "metadata": {},
   "outputs": [],
   "source": [
    "inf = 10e3\n",
    "shortest_dist = {}\n",
    "parents       = {}\n",
    "visited       = adj_list.copy()\n",
    "path          = []"
   ]
  },
  {
   "cell_type": "code",
   "execution_count": 44,
   "metadata": {},
   "outputs": [
    {
     "ename": "SyntaxError",
     "evalue": "unexpected EOF while parsing (<ipython-input-44-daa21935ae2d>, line 15)",
     "output_type": "error",
     "traceback": [
      "\u001b[0;36m  File \u001b[0;32m\"<ipython-input-44-daa21935ae2d>\"\u001b[0;36m, line \u001b[0;32m15\u001b[0m\n\u001b[0;31m    for child_node, weight in adj_list[node].items():\u001b[0m\n\u001b[0m                                                     ^\u001b[0m\n\u001b[0;31mSyntaxError\u001b[0m\u001b[0;31m:\u001b[0m unexpected EOF while parsing\n"
     ]
    }
   ],
   "source": [
    "for node in visited:\n",
    "    shortest_dist[node] = inf\n",
    "    \n",
    "shortest_dist[start_node] = 0\n",
    "\n",
    "while visited:\n",
    "    \n",
    "    min_node = None\n",
    "    for node in visited:\n",
    "        if min_node is None:\n",
    "            min_node = node\n",
    "        elif shortest_dist[node] < shortest_dist[min_node]:\n",
    "            min_node = node\n",
    "            \n",
    "    for child_node, weight in adj_list[node].items():\n",
    "        if weight + s"
   ]
  },
  {
   "cell_type": "code",
   "execution_count": 43,
   "metadata": {},
   "outputs": [
    {
     "name": "stdout",
     "output_type": "stream",
     "text": [
      "('B', 10)\n",
      "('C', 3)\n"
     ]
    }
   ],
   "source": [
    "for node in adj_list['A'].items(): \n",
    "    print(node)"
   ]
  },
  {
   "cell_type": "code",
   "execution_count": 40,
   "metadata": {},
   "outputs": [
    {
     "data": {
      "text/plain": [
       "{'A': 0, 'B': 10000.0, 'C': 10000.0, 'D': 10000.0, 'E': 10000.0}"
      ]
     },
     "execution_count": 40,
     "metadata": {},
     "output_type": "execute_result"
    }
   ],
   "source": [
    "shortest_dist"
   ]
  },
  {
   "cell_type": "code",
   "execution_count": null,
   "metadata": {},
   "outputs": [],
   "source": []
  }
 ],
 "metadata": {
  "kernelspec": {
   "display_name": "Python 3 (ipykernel)",
   "language": "python",
   "name": "python3"
  },
  "language_info": {
   "codemirror_mode": {
    "name": "ipython",
    "version": 3
   },
   "file_extension": ".py",
   "mimetype": "text/x-python",
   "name": "python",
   "nbconvert_exporter": "python",
   "pygments_lexer": "ipython3",
   "version": "3.8.3"
  }
 },
 "nbformat": 4,
 "nbformat_minor": 4
}
