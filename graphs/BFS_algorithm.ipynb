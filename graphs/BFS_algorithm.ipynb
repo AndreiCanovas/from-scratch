{
 "cells": [
  {
   "cell_type": "code",
   "execution_count": 2,
   "metadata": {},
   "outputs": [],
   "source": [
    "from queue import Queue"
   ]
  },
  {
   "cell_type": "code",
   "execution_count": 1,
   "metadata": {},
   "outputs": [],
   "source": [
    "adj_list_1 = {\n",
    "    'A': ['B', 'D'],\n",
    "    'B': ['A', 'C'],\n",
    "    'C': ['B'],\n",
    "    'D': ['A', 'E', 'F'],\n",
    "    'E': ['D', 'F', 'G'],\n",
    "    'F': ['D', 'E', 'H'],\n",
    "    'G': ['E', 'H'],\n",
    "    'H': ['G', 'F']\n",
    "}"
   ]
  },
  {
   "cell_type": "code",
   "execution_count": 98,
   "metadata": {},
   "outputs": [
    {
     "name": "stdout",
     "output_type": "stream",
     "text": [
      "{'A': 0, 'B': 0, 'C': 0, 'D': 0, 'E': 0, 'F': 0, 'G': 0, 'H': 0}\n",
      "{'A': -1, 'B': -1, 'C': -1, 'D': -1, 'E': -1, 'F': -1, 'G': -1, 'H': -1}\n",
      "{'A': None, 'B': None, 'C': None, 'D': None, 'E': None, 'F': None, 'G': None, 'H': None}\n"
     ]
    }
   ],
   "source": [
    "adj_list = adj_list_1\n",
    "\n",
    "time = 0\n",
    "# 0 - not visited, 1 - visited, 2 - node fully explored\n",
    "visited    = {} \n",
    "level      = {}\n",
    "parent     = {}\n",
    "bfs_output = []\n",
    "queue      = Queue()\n",
    "\n",
    "# __init__\n",
    "for node, to_list in adj_list.items():\n",
    "    visited[node]     = 0\n",
    "    parent[node]      = None\n",
    "    level[node]       = -1\n",
    "    \n",
    "print(visited)\n",
    "print(level)\n",
    "print(parent)"
   ]
  },
  {
   "cell_type": "code",
   "execution_count": 99,
   "metadata": {},
   "outputs": [
    {
     "name": "stdout",
     "output_type": "stream",
     "text": [
      "first node: deque(['F'])\n",
      "\ttaking node F from queue. queue status: deque([])\n",
      "\t\tadd neigbor D from F to queue. queue status: deque(['D'])\n",
      "\t\tadd neigbor E from F to queue. queue status: deque(['D', 'E'])\n",
      "\t\tadd neigbor H from F to queue. queue status: deque(['D', 'E', 'H'])\n",
      "\ttaking node D from queue. queue status: deque(['E', 'H'])\n",
      "\t\tadd neigbor A from D to queue. queue status: deque(['E', 'H', 'A'])\n",
      "\ttaking node E from queue. queue status: deque(['H', 'A'])\n",
      "\t\tadd neigbor G from E to queue. queue status: deque(['H', 'A', 'G'])\n",
      "\ttaking node H from queue. queue status: deque(['A', 'G'])\n",
      "\ttaking node A from queue. queue status: deque(['G'])\n",
      "\t\tadd neigbor B from A to queue. queue status: deque(['G', 'B'])\n",
      "\ttaking node G from queue. queue status: deque(['B'])\n",
      "\ttaking node B from queue. queue status: deque([])\n",
      "\t\tadd neigbor C from B to queue. queue status: deque(['C'])\n",
      "\ttaking node C from queue. queue status: deque([])\n"
     ]
    }
   ],
   "source": [
    "node = 'F'\n",
    "\n",
    "visited[node] = 1\n",
    "level[node] = 0\n",
    "queue.put(node)\n",
    "\n",
    "print(f'first node: {queue.queue}')\n",
    "\n",
    "while not queue.empty():\n",
    "    \n",
    "    u = queue.get()\n",
    "    \n",
    "    print(f'\\ttaking node {u} from queue. queue status: {queue.queue}')\n",
    "    \n",
    "    bfs_output.append(u)\n",
    "    \n",
    "    for v in adj_list[u]:\n",
    "        \n",
    "        if visited[v] == 0:\n",
    "            visited[v] = 1\n",
    "            parent[v]  = u\n",
    "            level[v]   = level[u] + 1\n",
    "            \n",
    "            queue.put(v)\n",
    "            \n",
    "            print(f'\\t\\tadd neigbor {v} from {u} to queue. queue status: {queue.queue}')"
   ]
  },
  {
   "cell_type": "code",
   "execution_count": 100,
   "metadata": {},
   "outputs": [],
   "source": [
    "# sortest path size from source node:\n",
    "level['H']\n",
    "\n",
    "# sortest path route from source node:\n",
    "v = 'H'\n",
    "path = []\n",
    "\n",
    "while v is not None:\n",
    "    path.append(v)\n",
    "    v = parent[v]\n",
    "\n",
    "path.reverse()"
   ]
  },
  {
   "cell_type": "code",
   "execution_count": 101,
   "metadata": {},
   "outputs": [
    {
     "name": "stdout",
     "output_type": "stream",
     "text": [
      "{'A': 2, 'B': 3, 'C': 4, 'D': 1, 'E': 1, 'F': 0, 'G': 2, 'H': 1}\n"
     ]
    }
   ],
   "source": [
    "print(level)"
   ]
  },
  {
   "cell_type": "code",
   "execution_count": 102,
   "metadata": {},
   "outputs": [
    {
     "data": {
      "text/plain": [
       "['F', 'H']"
      ]
     },
     "execution_count": 102,
     "metadata": {},
     "output_type": "execute_result"
    }
   ],
   "source": [
    "path"
   ]
  },
  {
   "cell_type": "code",
   "execution_count": null,
   "metadata": {},
   "outputs": [],
   "source": []
  }
 ],
 "metadata": {
  "kernelspec": {
   "display_name": "Python 3",
   "language": "python",
   "name": "python3"
  },
  "language_info": {
   "codemirror_mode": {
    "name": "ipython",
    "version": 3
   },
   "file_extension": ".py",
   "mimetype": "text/x-python",
   "name": "python",
   "nbconvert_exporter": "python",
   "pygments_lexer": "ipython3",
   "version": "3.8.3"
  }
 },
 "nbformat": 4,
 "nbformat_minor": 4
}
